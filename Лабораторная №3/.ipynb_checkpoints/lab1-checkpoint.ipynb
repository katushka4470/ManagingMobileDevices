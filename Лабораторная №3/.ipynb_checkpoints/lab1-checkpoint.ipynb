{
 "cells": [
  {
   "cell_type": "code",
   "execution_count": 1,
   "metadata": {},
   "outputs": [],
   "source": [
    "import pandas as pd"
   ]
  },
  {
   "cell_type": "code",
   "execution_count": 2,
   "metadata": {},
   "outputs": [
    {
     "data": {
      "text/html": [
       "<div>\n",
       "<style scoped>\n",
       "    .dataframe tbody tr th:only-of-type {\n",
       "        vertical-align: middle;\n",
       "    }\n",
       "\n",
       "    .dataframe tbody tr th {\n",
       "        vertical-align: top;\n",
       "    }\n",
       "\n",
       "    .dataframe thead th {\n",
       "        text-align: right;\n",
       "    }\n",
       "</style>\n",
       "<table border=\"1\" class=\"dataframe\">\n",
       "  <thead>\n",
       "    <tr style=\"text-align: right;\">\n",
       "      <th></th>\n",
       "      <th>timestamp</th>\n",
       "      <th>msisdn_origin</th>\n",
       "      <th>msisdn_dest</th>\n",
       "      <th>call_duration</th>\n",
       "      <th>sms_number</th>\n",
       "    </tr>\n",
       "  </thead>\n",
       "  <tbody>\n",
       "    <tr>\n",
       "      <th>0</th>\n",
       "      <td>2020-01-01 00:00:00</td>\n",
       "      <td>915783624</td>\n",
       "      <td>911926375</td>\n",
       "      <td>36.23</td>\n",
       "      <td>15</td>\n",
       "    </tr>\n",
       "    <tr>\n",
       "      <th>1</th>\n",
       "      <td>2020-01-01 00:05:00</td>\n",
       "      <td>911926375</td>\n",
       "      <td>968247916</td>\n",
       "      <td>9.20</td>\n",
       "      <td>5</td>\n",
       "    </tr>\n",
       "    <tr>\n",
       "      <th>2</th>\n",
       "      <td>2020-01-01 00:10:00</td>\n",
       "      <td>936415793</td>\n",
       "      <td>915642913</td>\n",
       "      <td>7.52</td>\n",
       "      <td>24</td>\n",
       "    </tr>\n",
       "    <tr>\n",
       "      <th>3</th>\n",
       "      <td>2020-01-01 00:15:00</td>\n",
       "      <td>914976835</td>\n",
       "      <td>914976835</td>\n",
       "      <td>96.70</td>\n",
       "      <td>97</td>\n",
       "    </tr>\n",
       "    <tr>\n",
       "      <th>4</th>\n",
       "      <td>2020-01-01 00:20:00</td>\n",
       "      <td>962365794</td>\n",
       "      <td>933156729</td>\n",
       "      <td>110.44</td>\n",
       "      <td>15</td>\n",
       "    </tr>\n",
       "    <tr>\n",
       "      <th>5</th>\n",
       "      <td>2020-01-01 00:25:00</td>\n",
       "      <td>966714385</td>\n",
       "      <td>915783624</td>\n",
       "      <td>12.34</td>\n",
       "      <td>5</td>\n",
       "    </tr>\n",
       "    <tr>\n",
       "      <th>6</th>\n",
       "      <td>2020-01-01 00:30:00</td>\n",
       "      <td>968247916</td>\n",
       "      <td>962365794</td>\n",
       "      <td>91.48</td>\n",
       "      <td>57</td>\n",
       "    </tr>\n",
       "    <tr>\n",
       "      <th>7</th>\n",
       "      <td>2020-01-01 00:35:00</td>\n",
       "      <td>933156729</td>\n",
       "      <td>936415793</td>\n",
       "      <td>83.22</td>\n",
       "      <td>73</td>\n",
       "    </tr>\n",
       "    <tr>\n",
       "      <th>8</th>\n",
       "      <td>2020-01-01 00:40:00</td>\n",
       "      <td>915642913</td>\n",
       "      <td>966714385</td>\n",
       "      <td>85.70</td>\n",
       "      <td>18</td>\n",
       "    </tr>\n",
       "  </tbody>\n",
       "</table>\n",
       "</div>"
      ],
      "text/plain": [
       "             timestamp  msisdn_origin  msisdn_dest  call_duration  sms_number\n",
       "0  2020-01-01 00:00:00      915783624    911926375          36.23          15\n",
       "1  2020-01-01 00:05:00      911926375    968247916           9.20           5\n",
       "2  2020-01-01 00:10:00      936415793    915642913           7.52          24\n",
       "3  2020-01-01 00:15:00      914976835    914976835          96.70          97\n",
       "4  2020-01-01 00:20:00      962365794    933156729         110.44          15\n",
       "5  2020-01-01 00:25:00      966714385    915783624          12.34           5\n",
       "6  2020-01-01 00:30:00      968247916    962365794          91.48          57\n",
       "7  2020-01-01 00:35:00      933156729    936415793          83.22          73\n",
       "8  2020-01-01 00:40:00      915642913    966714385          85.70          18"
      ]
     },
     "execution_count": 2,
     "metadata": {},
     "output_type": "execute_result"
    }
   ],
   "source": [
    "pd.read_csv('data.csv')"
   ]
  },
  {
   "cell_type": "code",
   "execution_count": 3,
   "metadata": {},
   "outputs": [],
   "source": [
    "data = pd.read_csv('data.csv')"
   ]
  },
  {
   "cell_type": "code",
   "execution_count": 4,
   "metadata": {},
   "outputs": [],
   "source": [
    "data.timestamp = pd.to_datetime(data.timestamp)"
   ]
  },
  {
   "cell_type": "code",
   "execution_count": 5,
   "metadata": {},
   "outputs": [
    {
     "name": "stdout",
     "output_type": "stream",
     "text": [
      "<class 'pandas.core.frame.DataFrame'>\n",
      "RangeIndex: 9 entries, 0 to 8\n",
      "Data columns (total 5 columns):\n",
      "timestamp        9 non-null datetime64[ns]\n",
      "msisdn_origin    9 non-null int64\n",
      "msisdn_dest      9 non-null int64\n",
      "call_duration    9 non-null float64\n",
      "sms_number       9 non-null int64\n",
      "dtypes: datetime64[ns](1), float64(1), int64(3)\n",
      "memory usage: 432.0 bytes\n"
     ]
    }
   ],
   "source": [
    "data.info()"
   ]
  },
  {
   "cell_type": "code",
   "execution_count": 6,
   "metadata": {},
   "outputs": [],
   "source": [
    "def out_in_box(number, k_before, k_after, k_sms):\n",
    "    sum_before = data.loc[((data['msisdn_origin'] == number) | (data['msisdn_dest'] == number)) & \n",
    "                          (data.timestamp.dt.minute <= 30)].call_duration.sum() * k_before\n",
    "    sum_after = data.loc[((data['msisdn_origin'] == number) | (data['msisdn_dest'] == number)) & \n",
    "                          (data.timestamp.dt.minute > 30)].call_duration.sum() * k_after\n",
    "    sms = data.loc[data['msisdn_origin'] == number].sms_number.sum() * k_sms\n",
    "    \n",
    "    return(sum_before + sum_after + sms)\n",
    "    "
   ]
  },
  {
   "cell_type": "markdown",
   "metadata": {},
   "source": [
    "# Ответ"
   ]
  },
  {
   "cell_type": "code",
   "execution_count": 7,
   "metadata": {},
   "outputs": [
    {
     "data": {
      "text/plain": [
       "717.7"
      ]
     },
     "execution_count": 7,
     "metadata": {},
     "output_type": "execute_result"
    }
   ],
   "source": [
    "out_in_box(933156729, 4, 2, 1.5)"
   ]
  },
  {
   "cell_type": "markdown",
   "metadata": {},
   "source": [
    "# Для лабораторной №3"
   ]
  },
  {
   "cell_type": "code",
   "execution_count": 8,
   "metadata": {},
   "outputs": [],
   "source": [
    "def for_lab3(number, k_before, k_after):\n",
    "    telephone = data.loc[((data['msisdn_origin'] == number) | (data['msisdn_dest'] == number)) & \n",
    "                          (data.timestamp.dt.minute > 30)].call_duration.sum() * k_after + data.loc[((data['msisdn_origin'] == number) | (data['msisdn_dest'] == number)) & \n",
    "                          (data.timestamp.dt.minute <= 30)].call_duration.sum() * k_before\n",
    "    return(telephone)\n",
    "    "
   ]
  },
  {
   "cell_type": "code",
   "execution_count": 10,
   "metadata": {},
   "outputs": [],
   "source": [
    "t = for_lab3(933156729, 4, 2)\n",
    "def telephone():\n",
    "    return(t)"
   ]
  },
  {
   "cell_type": "code",
   "execution_count": null,
   "metadata": {},
   "outputs": [],
   "source": []
  }
 ],
 "metadata": {
  "kernelspec": {
   "display_name": "Python 2",
   "language": "python",
   "name": "python2"
  },
  "language_info": {
   "codemirror_mode": {
    "name": "ipython",
    "version": 2
   },
   "file_extension": ".py",
   "mimetype": "text/x-python",
   "name": "python",
   "nbconvert_exporter": "python",
   "pygments_lexer": "ipython2",
   "version": "2.7.16"
  }
 },
 "nbformat": 4,
 "nbformat_minor": 2
}
