{
 "cells": [
  {
   "cell_type": "code",
   "execution_count": 1,
   "metadata": {},
   "outputs": [],
   "source": [
    "from docxtpl import DocxTemplate\n",
    "doc = DocxTemplate(\"lab3.docx\")"
   ]
  },
  {
   "cell_type": "code",
   "execution_count": 2,
   "metadata": {},
   "outputs": [],
   "source": [
    "import sys\n",
    "reload(sys)\n",
    "sys.setdefaultencoding('utf-8')"
   ]
  },
  {
   "cell_type": "code",
   "execution_count": 3,
   "metadata": {},
   "outputs": [],
   "source": [
    "import nbimporter\n",
    "nbimporter.options['only_defs'] = False\n",
    "from lab1 import telephone#import from notebook\n",
    "tel = telephone()\n",
    "from lab2 import internet\n",
    "inet = round(internet('87.245.198.147', 2) / 10485767, 4)\n",
    "final = tel + inet"
   ]
  },
  {
   "cell_type": "code",
   "execution_count": 4,
   "metadata": {},
   "outputs": [],
   "source": [
    "from num2t4ru import num2text, decimal2text\n",
    "int_units = ((u'рубль', u'рубля', u'рублей'), 'm')\n",
    "exp_units = ((u'копейка', u'копейки', u'копеек'), 'f')\n",
    "rus = decimal2text(\n",
    "        (str(final)),\n",
    "        int_units=int_units,\n",
    "        exp_units=exp_units)"
   ]
  },
  {
   "cell_type": "code",
   "execution_count": 5,
   "metadata": {},
   "outputs": [],
   "source": [
    "context = { 'bank' : 'ООО Ромашка', 'bik' : '044525700', 'kpp':'772201001', 'getter':'ООО Василек',\n",
    "           'first': '30101810200000000700', 'second': '40702810900000002453', 'inn': '7722737766',\n",
    "           'address1' : 'г. Москва, ул. Долгоруковская, д. 50', 'index' : '199932', \n",
    "           'address2' : 'г. Москва, ул.Тульская, д. 10', 'osnovanie':'№ 20022016 от 12.02.2016','n2':'2', 'name1':'Телефония',\n",
    "          'name2':'Интернет','cost1': tel,'cost2': inet, 'sum': str(final), 'director':'Семенов Д.А.','accountant':'Семенов Д.А.',\n",
    "           'number':'2','date':'1 июня','year':'20', 'buy':'ООО ЛАГУНА', 'rus': rus}"
   ]
  },
  {
   "cell_type": "code",
   "execution_count": 6,
   "metadata": {},
   "outputs": [],
   "source": [
    "doc.render(context)\n",
    "doc.save(\"lab3-final.docx\")"
   ]
  },
  {
   "cell_type": "code",
   "execution_count": 7,
   "metadata": {},
   "outputs": [
    {
     "data": {
      "text/plain": [
       "0"
      ]
     },
     "execution_count": 7,
     "metadata": {},
     "output_type": "execute_result"
    }
   ],
   "source": [
    "import os\n",
    "import comtypes.client\n",
    "import time\n",
    "\n",
    "\n",
    "wdFormatPDF = 17\n",
    "\n",
    "\n",
    "# absolute path is needed\n",
    "# be careful about the slash '\\', use '\\\\' or '/' or raw string r\"...\"\n",
    "in_file=r'C:/Users/Kate/Desktop/ITMO/MobileDev/Lab3/lab3-final.docx'\n",
    "out_file=r'C:/Users/Kate/Desktop/ITMO/MobileDev/Lab3/lab3-final.pdf'\n",
    "\n",
    "# print out filenames\n",
    "print in_file\n",
    "print out_file\n",
    "\n",
    "# create COM object\n",
    "word = comtypes.client.CreateObject('Word.Application')\n",
    "# key point 1: make word visible before open a new document\n",
    "word.Visible = True\n",
    "# key point 2: wait for the COM Server to prepare well.\n",
    "time.sleep(3)\n",
    "\n",
    "# convert docx file 1 to pdf file 1\n",
    "doc=word.Documents.Open(in_file) # open docx file 1\n",
    "doc.SaveAs(out_file, FileFormat=wdFormatPDF) # conversion\n",
    "doc.Close() # close docx file 1\n",
    "word.Visible = False\n",
    "  \n",
    "word.Quit() # close Word Application "
   ]
  },
  {
   "cell_type": "code",
   "execution_count": null,
   "metadata": {},
   "outputs": [],
   "source": []
  }
 ],
 "metadata": {
  "kernelspec": {
   "display_name": "Python 2",
   "language": "python",
   "name": "python2"
  },
  "language_info": {
   "codemirror_mode": {
    "name": "ipython",
    "version": 2
   },
   "file_extension": ".py",
   "mimetype": "text/x-python",
   "name": "python",
   "nbconvert_exporter": "python",
   "pygments_lexer": "ipython2",
   "version": "2.7.16"
  }
 },
 "nbformat": 4,
 "nbformat_minor": 2
}
